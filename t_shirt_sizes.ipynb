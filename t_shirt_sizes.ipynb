{
 "cells": [
  {
   "cell_type": "code",
   "execution_count": null,
   "metadata": {},
   "outputs": [],
   "source": [
    "import pandas as pd\n",
    "import seaborn as sns\n",
    "import matplotlib.pyplot as plt\n",
    "from sklearn.neighbors import KNeighborsClassifier\n",
    "from math import sqrt\n",
    "db_male = \"male.csv\"\n",
    "db_female = \"female.csv\"\n",
    "male_db = pd.read_csv(db_male)\n",
    "female_db = pd.read_csv(db_female)"
   ]
  },
  {
   "cell_type": "code",
   "execution_count": null,
   "metadata": {},
   "outputs": [],
   "source": [
    "male_db.head()"
   ]
  },
  {
   "cell_type": "code",
   "execution_count": null,
   "metadata": {},
   "outputs": [],
   "source": [
    "male_db.tail()"
   ]
  },
  {
   "cell_type": "code",
   "execution_count": null,
   "metadata": {},
   "outputs": [],
   "source": [
    "female_db.head()"
   ]
  },
  {
   "cell_type": "code",
   "execution_count": null,
   "metadata": {},
   "outputs": [],
   "source": [
    "female_db.tail()"
   ]
  },
  {
   "cell_type": "code",
   "execution_count": null,
   "metadata": {},
   "outputs": [],
   "source": [
    "def div_conversion(df, column, div):\n",
    "    return df[column].apply(lambda x: x/div)"
   ]
  },
  {
   "cell_type": "code",
   "execution_count": null,
   "metadata": {},
   "outputs": [],
   "source": [
    "\n",
    "male_db['chestcircumference'] = div_conversion(male_db, 'chestcircumference', 10) \n",
    "male_db['waistcircumference'] = div_conversion(male_db, 'waistcircumference', 10) \n",
    "\n",
    "\n",
    "female_db['chestcircumference'] = div_conversion(female_db, 'chestcircumference', 10)\n",
    "female_db['waistcircumference'] = div_conversion(female_db, 'waistcircumference', 10) "
   ]
  },
  {
   "cell_type": "code",
   "execution_count": null,
   "metadata": {},
   "outputs": [],
   "source": []
  },
  {
   "cell_type": "code",
   "execution_count": null,
   "metadata": {},
   "outputs": [],
   "source": [
    "print(\"*****\" + \" Male \" + \"*****\")\n",
    "print(male_db['chestcircumference'], end='\\n\\n')\n",
    "print(male_db['waistcircumference'])\n",
    "print(\"*****\" + \" Female \" + \"*****\")\n",
    "print(female_db['chestcircumference'], end='\\n\\n')\n",
    "print(female_db['waistcircumference'])"
   ]
  },
  {
   "cell_type": "code",
   "execution_count": null,
   "metadata": {},
   "outputs": [],
   "source": [
    "def prepare_db(df, gender, columns: list, sample_size):\n",
    "        [list(df.columns).index(column) for column in columns]\n",
    "        df = df.iloc[:sample_size, [list(df.columns).index(column) for column in columns]].copy()\n",
    "        df.to_csv(f'{gender}_sample{sample_size}.csv', index=False)"
   ]
  },
  {
   "cell_type": "code",
   "execution_count": null,
   "metadata": {},
   "outputs": [],
   "source": [
    "prepare_db(male_db, 'male', ['chestcircumference', 'waistcircumference'], 100)\n",
    "prepare_db(female_db, 'female', ['chestcircumference', 'waistcircumference'], 100)"
   ]
  },
  {
   "cell_type": "code",
   "execution_count": null,
   "metadata": {},
   "outputs": [],
   "source": [
    "male_sizes = {\"XXS\": 84, \"XS\": 90, \"S\": 95, \"M\": 102, \"L\": 112, \"XL\": 122, \"XXL\": 133, \"3XL\": 1000}\n",
    "female_sizes = {\"XSS\": 75, \"XS\": 82, \"S\": 89, \"M\": 96, \"L\": 106, \"XL\": 116, \"XXL\": 1000}"
   ]
  },
  {
   "cell_type": "code",
   "execution_count": null,
   "metadata": {},
   "outputs": [],
   "source": [
    "def categories_by_size(df, sizes):\n",
    "    cloth_sizes = []\n",
    "    for row in range(df.shape[0]):\n",
    "        size = next(key for key in sizes if df['chestcircumference'][row] < sizes[key])\n",
    "        cloth_sizes.append(size)\n",
    "    df[\"clothingsize\"] = cloth_sizes\n",
    "    return df"
   ]
  },
  {
   "cell_type": "code",
   "execution_count": null,
   "metadata": {},
   "outputs": [],
   "source": [
    "df_male = pd.read_csv('cleaned_maleDB.csv')\n",
    "df_male = categories_by_size(df_male, male_sizes)\n",
    "print(df_male)\n",
    "\n",
    "df_female = pd.read_csv('cleaned_femaleDB.csv')\n",
    "df_female = categories_by_size(df_female, female_sizes)\n",
    "print(df_female)"
   ]
  },
  {
   "cell_type": "code",
   "execution_count": null,
   "metadata": {},
   "outputs": [],
   "source": [
    "print(\"*****\" + \" Male \" + \"*****\")\n",
    "df_male = pd.read_csv('cleaned_maleDB.csv')\n",
    "print(df_male)\n",
    "print(df_male.columns, '\\n')\n",
    "print(df_male.count())\n",
    "sns.scatterplot(data=df_male, x='chestcircumference', y='waistcircumference', hue='clothingsize')\n",
    "plt.show()"
   ]
  },
  {
   "cell_type": "code",
   "execution_count": null,
   "metadata": {},
   "outputs": [],
   "source": [
    "print(\"*****\" + \" Female \" + \"*****\")\n",
    "df_female = pd.read_csv('cleaned_femaleDB.csv')\n",
    "print(df_female)\n",
    "print(df_female.columns, '\\n')\n",
    "print(df_female.count())\n",
    "sns.scatterplot(data=df_female, x='chestcircumference', y='waistcircumference', hue='clothingsize')\n",
    "plt.show()"
   ]
  },
  {
   "cell_type": "code",
   "execution_count": null,
   "metadata": {},
   "outputs": [],
   "source": [
    "def k_nearest_neighbor(df, P: list, k: int):\n",
    "    def vec_abs(vec):\n",
    "        return sqrt(sum([unit**2 for unit in vec]))\n",
    "    \n",
    "    def compute_vec(P_1, P_2):\n",
    "        return [P_2[col] - P_1[col] for col in range(2)]\n",
    "\n",
    "    points = []\n",
    "    for row in range(df.shape[0]):\n",
    "        point = [df['chestcircumference'][row], df['waistcircumference'][row]]\n",
    "        vec = compute_vec(P, point)\n",
    "        points.append((df['clothingsize'][row] ,vec_abs(vec)))\n",
    "\n",
    "    cluster = [size[0] for size in sorted(points, key=lambda y: y[1])[:k]]\n",
    "    del points\n",
    "    cluster_point = {i: cluster.count(i) for i in cluster}\n",
    "    return max(cluster_point, key=cluster_point.get)"
   ]
  },
  {
   "cell_type": "code",
   "execution_count": null,
   "metadata": {},
   "outputs": [],
   "source": [
    "chest = input(\"Your chest size in CM?:   \")\n",
    "waist = input(\"Your waist size in CM?:   \")\n",
    "gender = input(\"male / female?        \")\n",
    "df = pd.read_csv('cleaned_maleDB.csv') if gender == \"female\" else pd.read_csv('cleaned_femaleDB.csv')\n",
    "size = k_nearest_neighbor(df, [float(chest), float(waist)], 3)\n",
    "print(f\"You should buy a shirt size: {size}\")"
   ]
  }
 ],
 "metadata": {
  "interpreter": {
   "hash": "2be5faf79681da6f2a61fdfdd5405d65d042280f7fba6178067603e3a2925119"
  },
  "kernelspec": {
   "display_name": "Python 3.10.4 64-bit",
   "language": "python",
   "name": "python3"
  },
  "language_info": {
   "codemirror_mode": {
    "name": "ipython",
    "version": 3
   },
   "file_extension": ".py",
   "mimetype": "text/x-python",
   "name": "python",
   "nbconvert_exporter": "python",
   "pygments_lexer": "ipython3",
   "version": "3.10.4"
  },
  "orig_nbformat": 4
 },
 "nbformat": 4,
 "nbformat_minor": 2
}
